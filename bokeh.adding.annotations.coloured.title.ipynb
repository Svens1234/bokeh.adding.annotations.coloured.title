{
 "cells": [
  {
   "cell_type": "code",
   "execution_count": 1,
   "id": "efd59d94",
   "metadata": {},
   "outputs": [],
   "source": [
    "from bokeh.plotting import figure, output_file, show"
   ]
  },
  {
   "cell_type": "code",
   "execution_count": 2,
   "id": "84abd2b8",
   "metadata": {},
   "outputs": [],
   "source": [
    "p = figure(width=300, height=300)\n",
    "p.circle([1,2], [3,4])\n",
    "\n",
    "# configure visual properties on a plot's title attribute\n",
    "p.title.text = \"Title With Options\"\n",
    "p.title.align = \"right\"\n",
    "p.title.text_color = \"orange\"\n",
    "p.title.text_font_size = \"25px\"\n",
    "p.title.background_fill_color = \"#aaaaee\"\n",
    "\n",
    "output_file(\"title.html\")\n",
    "\n",
    "show(p)"
   ]
  },
  {
   "cell_type": "code",
   "execution_count": null,
   "id": "a9ced2cd",
   "metadata": {},
   "outputs": [],
   "source": []
  }
 ],
 "metadata": {
  "kernelspec": {
   "display_name": "Python 3 (ipykernel)",
   "language": "python",
   "name": "python3"
  },
  "language_info": {
   "codemirror_mode": {
    "name": "ipython",
    "version": 3
   },
   "file_extension": ".py",
   "mimetype": "text/x-python",
   "name": "python",
   "nbconvert_exporter": "python",
   "pygments_lexer": "ipython3",
   "version": "3.10.5"
  }
 },
 "nbformat": 4,
 "nbformat_minor": 5
}
